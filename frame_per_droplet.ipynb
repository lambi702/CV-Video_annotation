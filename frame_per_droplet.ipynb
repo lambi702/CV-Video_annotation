{
 "cells": [
  {
   "cell_type": "code",
   "execution_count": 15,
   "metadata": {},
   "outputs": [],
   "source": [
    "import json\n",
    "import matplotlib.pyplot as plt\n",
    "import numpy as np\n",
    "import cv2\n",
    "from joblib import Parallel, delayed\n",
    "import os\n",
    "from tqdm import tqdm"
   ]
  },
  {
   "cell_type": "code",
   "execution_count": 11,
   "metadata": {},
   "outputs": [],
   "source": [
    "def load_images(file):\n",
    "    return np.array(cv2.imreadmulti(file, flags=cv2.IMREAD_GRAYSCALE)[1])"
   ]
  },
  {
   "cell_type": "code",
   "execution_count": 12,
   "metadata": {},
   "outputs": [],
   "source": [
    "def process_images(images):\n",
    "    def get_mask(image, back):\n",
    "        return np.abs(image - back) / np.max(image) > 0.1\n",
    "\n",
    "    back = np.mean(images, axis=0)\n",
    "    masks = Parallel(n_jobs=8)(delayed(get_mask)(image,back) for image in images)\n",
    "    masks = np.array(masks)\n",
    "    masks = masks.astype(np.uint8) * 255\n",
    "    return masks"
   ]
  },
  {
   "cell_type": "code",
   "execution_count": 13,
   "metadata": {},
   "outputs": [],
   "source": [
    "def get_contours(masks, frame):\n",
    "    def clean_frame(mask):\n",
    "        image = mask.copy()\n",
    "        image = cv2.medianBlur(image, 3)\n",
    "        \n",
    "        kernel = np.ones((3,3),np.uint8)\n",
    "        image = cv2.dilate(image, kernel, iterations=9)\n",
    "\n",
    "        image = cv2.medianBlur(image, 17)\n",
    "\n",
    "        contours, _ = cv2.findContours(image, cv2.RETR_TREE, cv2.CHAIN_APPROX_SIMPLE)\n",
    "        image = np.zeros(image.shape)\n",
    "        bb = []\n",
    "        for contour in contours:\n",
    "            if cv2.contourArea(contour) > 300:\n",
    "                cv2.drawContours(image, [contour], 0, (255), -1)\n",
    "                x, y, w, h = cv2.boundingRect(contour)\n",
    "                bb.append((x, y, w, h))\n",
    "                cv2.rectangle(image, (x, y), (x+w, y+h), (255), 2)\n",
    "\n",
    "    \n",
    "        kernel = np.ones((100,100),np.uint8)\n",
    "        image = cv2.morphologyEx(image, cv2.MORPH_OPEN, kernel)\n",
    "        image = np.array(image, dtype=np.uint8)\n",
    "        return image\n",
    "\n",
    "    def get_boundaries(mask):\n",
    "        boundaries = np.zeros(mask.shape)\n",
    "        contours, _ = cv2.findContours(mask, cv2.RETR_TREE, cv2.CHAIN_APPROX_SIMPLE)\n",
    "        for contour in contours:\n",
    "            if cv2.contourArea(contour) > 300:\n",
    "                cv2.drawContours(boundaries, [contour], 0, (255), 5)\n",
    "        return np.array(boundaries, dtype=np.uint8)\n",
    "\n",
    "    def get_circles(mask):\n",
    "        return cv2.HoughCircles(mask, cv2.HOUGH_GRADIENT, dp=1, minDist=500, param1=50, param2=20, minRadius=270, maxRadius=350)\n",
    "\n",
    "    def get_bounding_boxes(mask):\n",
    "        circles = get_circles(mask)\n",
    "        bb = []\n",
    "        if circles is not None:\n",
    "            circles = np.uint16(np.around(circles))\n",
    "            for circle in circles[0,:]:\n",
    "                x, y, r = circle\n",
    "                x = int(x)\n",
    "                y = int(y)\n",
    "                r = int(r)\n",
    "                if x-r < 0 or y-r < 0 or x+r > mask.shape[1] or y+r > mask.shape[0]:\n",
    "                    continue\n",
    "                bb.append((x-r, y-r, 2*r, 2*r))\n",
    "        return bb\n",
    "    \n",
    "    mask = masks[frame-1]\n",
    "    mask = clean_frame(mask)\n",
    "    mask = get_boundaries(mask)\n",
    "    bb   = get_bounding_boxes(mask)\n",
    "    return mask, bb       \n"
   ]
  },
  {
   "cell_type": "code",
   "execution_count": 28,
   "metadata": {},
   "outputs": [
    {
     "name": "stderr",
     "output_type": "stream",
     "text": [
      "  0%|          | 0/41 [00:00<?, ?it/s]"
     ]
    },
    {
     "name": "stdout",
     "output_type": "stream",
     "text": [
      "Processing ./data/sequences/1-1.tif with 100 frames\n",
      "Extracting droplets from ./data/sequences/1-1.tif\n"
     ]
    },
    {
     "name": "stderr",
     "output_type": "stream",
     "text": [
      "100%|██████████| 30/30 [00:34<00:00,  1.16s/it]\n",
      "  2%|▏         | 1/41 [00:39<26:24, 39.62s/it]"
     ]
    },
    {
     "name": "stdout",
     "output_type": "stream",
     "text": [
      "Finished ./data/sequences/1-1.tif\n",
      "Processing ./data/sequences/1-2.tif with 100 frames\n",
      "Extracting droplets from ./data/sequences/1-2.tif\n"
     ]
    },
    {
     "name": "stderr",
     "output_type": "stream",
     "text": [
      "100%|██████████| 30/30 [00:24<00:00,  1.22it/s]\n",
      "  5%|▍         | 2/41 [01:08<21:32, 33.15s/it]"
     ]
    },
    {
     "name": "stdout",
     "output_type": "stream",
     "text": [
      "Finished ./data/sequences/1-2.tif\n",
      "Processing ./data/sequences/1-3.tif with 100 frames\n",
      "Extracting droplets from ./data/sequences/1-3.tif\n"
     ]
    },
    {
     "name": "stderr",
     "output_type": "stream",
     "text": [
      "100%|██████████| 30/30 [00:24<00:00,  1.20it/s]\n",
      "  7%|▋         | 3/41 [01:37<19:47, 31.24s/it]"
     ]
    },
    {
     "name": "stdout",
     "output_type": "stream",
     "text": [
      "Finished ./data/sequences/1-3.tif\n",
      "Processing ./data/sequences/10-1.tif with 100 frames\n",
      "Extracting droplets from ./data/sequences/10-1.tif\n"
     ]
    },
    {
     "name": "stderr",
     "output_type": "stream",
     "text": [
      "100%|██████████| 30/30 [00:24<00:00,  1.22it/s]\n",
      " 10%|▉         | 4/41 [02:05<18:36, 30.17s/it]"
     ]
    },
    {
     "name": "stdout",
     "output_type": "stream",
     "text": [
      "Finished ./data/sequences/10-1.tif\n",
      "Processing ./data/sequences/10-2.tif with 100 frames\n",
      "Extracting droplets from ./data/sequences/10-2.tif\n"
     ]
    },
    {
     "name": "stderr",
     "output_type": "stream",
     "text": [
      "100%|██████████| 30/30 [00:24<00:00,  1.21it/s]\n",
      " 12%|█▏        | 5/41 [02:34<17:48, 29.68s/it]"
     ]
    },
    {
     "name": "stdout",
     "output_type": "stream",
     "text": [
      "Finished ./data/sequences/10-2.tif\n",
      "Processing ./data/sequences/10-3.tif with 100 frames\n",
      "Extracting droplets from ./data/sequences/10-3.tif\n"
     ]
    },
    {
     "name": "stderr",
     "output_type": "stream",
     "text": [
      "100%|██████████| 30/30 [00:24<00:00,  1.21it/s]\n",
      " 15%|█▍        | 6/41 [03:03<17:08, 29.38s/it]"
     ]
    },
    {
     "name": "stdout",
     "output_type": "stream",
     "text": [
      "Finished ./data/sequences/10-3.tif\n",
      "Processing ./data/sequences/11-1.tif with 100 frames\n",
      "Extracting droplets from ./data/sequences/11-1.tif\n"
     ]
    },
    {
     "name": "stderr",
     "output_type": "stream",
     "text": [
      "100%|██████████| 30/30 [00:29<00:00,  1.03it/s]\n",
      " 17%|█▋        | 7/41 [03:36<17:21, 30.64s/it]"
     ]
    },
    {
     "name": "stdout",
     "output_type": "stream",
     "text": [
      "Finished ./data/sequences/11-1.tif\n",
      "Processing ./data/sequences/11-2.tif with 100 frames\n",
      "Extracting droplets from ./data/sequences/11-2.tif\n"
     ]
    },
    {
     "name": "stderr",
     "output_type": "stream",
     "text": [
      "100%|██████████| 30/30 [00:24<00:00,  1.20it/s]\n",
      " 20%|█▉        | 8/41 [04:06<16:42, 30.37s/it]"
     ]
    },
    {
     "name": "stdout",
     "output_type": "stream",
     "text": [
      "Finished ./data/sequences/11-2.tif\n",
      "Processing ./data/sequences/11-3.tif with 100 frames\n",
      "Extracting droplets from ./data/sequences/11-3.tif\n"
     ]
    },
    {
     "name": "stderr",
     "output_type": "stream",
     "text": [
      "100%|██████████| 30/30 [00:26<00:00,  1.13it/s]\n",
      " 22%|██▏       | 9/41 [04:37<16:15, 30.49s/it]"
     ]
    },
    {
     "name": "stdout",
     "output_type": "stream",
     "text": [
      "Finished ./data/sequences/11-3.tif\n",
      "Processing ./data/sequences/12-1.tif with 100 frames\n",
      "Extracting droplets from ./data/sequences/12-1.tif\n"
     ]
    },
    {
     "name": "stderr",
     "output_type": "stream",
     "text": [
      "100%|██████████| 30/30 [00:23<00:00,  1.28it/s]\n",
      " 24%|██▍       | 10/41 [05:04<15:14, 29.51s/it]"
     ]
    },
    {
     "name": "stdout",
     "output_type": "stream",
     "text": [
      "Finished ./data/sequences/12-1.tif\n",
      "Processing ./data/sequences/12-2.tif with 100 frames\n",
      "Extracting droplets from ./data/sequences/12-2.tif\n"
     ]
    },
    {
     "name": "stderr",
     "output_type": "stream",
     "text": [
      "100%|██████████| 30/30 [00:24<00:00,  1.20it/s]\n",
      " 27%|██▋       | 11/41 [05:33<14:36, 29.22s/it]"
     ]
    },
    {
     "name": "stdout",
     "output_type": "stream",
     "text": [
      "Finished ./data/sequences/12-2.tif\n",
      "Processing ./data/sequences/12-3.tif with 100 frames\n",
      "Extracting droplets from ./data/sequences/12-3.tif\n"
     ]
    },
    {
     "name": "stderr",
     "output_type": "stream",
     "text": [
      "100%|██████████| 30/30 [00:27<00:00,  1.08it/s]\n",
      " 29%|██▉       | 12/41 [06:05<14:34, 30.16s/it]"
     ]
    },
    {
     "name": "stdout",
     "output_type": "stream",
     "text": [
      "Finished ./data/sequences/12-3.tif\n",
      "Processing ./data/sequences/13-1.tif with 100 frames\n",
      "Extracting droplets from ./data/sequences/13-1.tif\n"
     ]
    },
    {
     "name": "stderr",
     "output_type": "stream",
     "text": [
      "100%|██████████| 30/30 [00:35<00:00,  1.19s/it]\n",
      " 32%|███▏      | 13/41 [06:44<15:24, 33.02s/it]"
     ]
    },
    {
     "name": "stdout",
     "output_type": "stream",
     "text": [
      "Finished ./data/sequences/13-1.tif\n",
      "Processing ./data/sequences/13-2.tif with 100 frames\n",
      "Extracting droplets from ./data/sequences/13-2.tif\n"
     ]
    },
    {
     "name": "stderr",
     "output_type": "stream",
     "text": [
      "100%|██████████| 30/30 [00:44<00:00,  1.50s/it]\n",
      " 34%|███▍      | 14/41 [07:36<17:19, 38.49s/it]"
     ]
    },
    {
     "name": "stdout",
     "output_type": "stream",
     "text": [
      "Finished ./data/sequences/13-2.tif\n",
      "Processing ./data/sequences/13-3.tif with 100 frames\n",
      "Extracting droplets from ./data/sequences/13-3.tif\n"
     ]
    },
    {
     "name": "stderr",
     "output_type": "stream",
     "text": [
      "100%|██████████| 30/30 [00:43<00:00,  1.46s/it]\n",
      " 37%|███▋      | 15/41 [08:25<18:07, 41.81s/it]"
     ]
    },
    {
     "name": "stdout",
     "output_type": "stream",
     "text": [
      "Finished ./data/sequences/13-3.tif\n",
      "Processing ./data/sequences/14-1.tif with 100 frames\n",
      "Extracting droplets from ./data/sequences/14-1.tif\n"
     ]
    },
    {
     "name": "stderr",
     "output_type": "stream",
     "text": [
      "100%|██████████| 30/30 [00:47<00:00,  1.60s/it]\n",
      " 39%|███▉      | 16/41 [09:19<18:56, 45.46s/it]"
     ]
    },
    {
     "name": "stdout",
     "output_type": "stream",
     "text": [
      "Finished ./data/sequences/14-1.tif\n",
      "Processing ./data/sequences/14-2.tif with 100 frames\n",
      "Extracting droplets from ./data/sequences/14-2.tif\n"
     ]
    },
    {
     "name": "stderr",
     "output_type": "stream",
     "text": [
      "100%|██████████| 30/30 [00:37<00:00,  1.24s/it]\n",
      " 41%|████▏     | 17/41 [10:02<17:55, 44.83s/it]"
     ]
    },
    {
     "name": "stdout",
     "output_type": "stream",
     "text": [
      "Finished ./data/sequences/14-2.tif\n",
      "Processing ./data/sequences/2-1.tif with 100 frames\n",
      "Extracting droplets from ./data/sequences/2-1.tif\n"
     ]
    },
    {
     "name": "stderr",
     "output_type": "stream",
     "text": [
      "100%|██████████| 30/30 [00:24<00:00,  1.25it/s]\n",
      " 44%|████▍     | 18/41 [10:31<15:16, 39.84s/it]"
     ]
    },
    {
     "name": "stdout",
     "output_type": "stream",
     "text": [
      "Finished ./data/sequences/2-1.tif\n",
      "Processing ./data/sequences/2-2.tif with 100 frames\n",
      "Extracting droplets from ./data/sequences/2-2.tif\n"
     ]
    },
    {
     "name": "stderr",
     "output_type": "stream",
     "text": [
      "100%|██████████| 30/30 [00:24<00:00,  1.23it/s]\n",
      " 46%|████▋     | 19/41 [10:59<13:22, 36.47s/it]"
     ]
    },
    {
     "name": "stdout",
     "output_type": "stream",
     "text": [
      "Finished ./data/sequences/2-2.tif\n",
      "Processing ./data/sequences/2-3.tif with 100 frames\n",
      "Extracting droplets from ./data/sequences/2-3.tif\n"
     ]
    },
    {
     "name": "stderr",
     "output_type": "stream",
     "text": [
      "100%|██████████| 30/30 [00:24<00:00,  1.24it/s]\n",
      " 49%|████▉     | 20/41 [11:28<11:55, 34.07s/it]"
     ]
    },
    {
     "name": "stdout",
     "output_type": "stream",
     "text": [
      "Finished ./data/sequences/2-3.tif\n",
      "Processing ./data/sequences/3-1.tif with 100 frames\n",
      "Extracting droplets from ./data/sequences/3-1.tif\n"
     ]
    },
    {
     "name": "stderr",
     "output_type": "stream",
     "text": [
      "100%|██████████| 30/30 [00:24<00:00,  1.24it/s]\n",
      " 51%|█████     | 21/41 [11:56<10:47, 32.40s/it]"
     ]
    },
    {
     "name": "stdout",
     "output_type": "stream",
     "text": [
      "Finished ./data/sequences/3-1.tif\n",
      "Processing ./data/sequences/3-2.tif with 100 frames\n",
      "Extracting droplets from ./data/sequences/3-2.tif\n"
     ]
    },
    {
     "name": "stderr",
     "output_type": "stream",
     "text": [
      "100%|██████████| 30/30 [00:24<00:00,  1.23it/s]\n",
      " 54%|█████▎    | 22/41 [12:25<09:52, 31.19s/it]"
     ]
    },
    {
     "name": "stdout",
     "output_type": "stream",
     "text": [
      "Finished ./data/sequences/3-2.tif\n",
      "Processing ./data/sequences/3-3.tif with 100 frames\n",
      "Extracting droplets from ./data/sequences/3-3.tif\n"
     ]
    },
    {
     "name": "stderr",
     "output_type": "stream",
     "text": [
      "100%|██████████| 30/30 [00:27<00:00,  1.09it/s]\n",
      " 56%|█████▌    | 23/41 [12:56<09:23, 31.30s/it]"
     ]
    },
    {
     "name": "stdout",
     "output_type": "stream",
     "text": [
      "Finished ./data/sequences/3-3.tif\n",
      "Processing ./data/sequences/4-1.tif with 100 frames\n",
      "Extracting droplets from ./data/sequences/4-1.tif\n"
     ]
    },
    {
     "name": "stderr",
     "output_type": "stream",
     "text": [
      "100%|██████████| 30/30 [00:24<00:00,  1.24it/s]\n",
      " 59%|█████▊    | 24/41 [13:24<08:37, 30.42s/it]"
     ]
    },
    {
     "name": "stdout",
     "output_type": "stream",
     "text": [
      "Finished ./data/sequences/4-1.tif\n",
      "Processing ./data/sequences/4-2.tif with 100 frames\n",
      "Extracting droplets from ./data/sequences/4-2.tif\n"
     ]
    },
    {
     "name": "stderr",
     "output_type": "stream",
     "text": [
      "100%|██████████| 30/30 [00:24<00:00,  1.22it/s]\n",
      " 61%|██████    | 25/41 [13:53<07:58, 29.92s/it]"
     ]
    },
    {
     "name": "stdout",
     "output_type": "stream",
     "text": [
      "Finished ./data/sequences/4-2.tif\n",
      "Processing ./data/sequences/4-3.tif with 100 frames\n",
      "Extracting droplets from ./data/sequences/4-3.tif\n"
     ]
    },
    {
     "name": "stderr",
     "output_type": "stream",
     "text": [
      "100%|██████████| 30/30 [00:24<00:00,  1.25it/s]\n",
      " 63%|██████▎   | 26/41 [14:21<07:20, 29.35s/it]"
     ]
    },
    {
     "name": "stdout",
     "output_type": "stream",
     "text": [
      "Finished ./data/sequences/4-3.tif\n",
      "Processing ./data/sequences/5-1.tif with 100 frames\n",
      "Extracting droplets from ./data/sequences/5-1.tif\n"
     ]
    },
    {
     "name": "stderr",
     "output_type": "stream",
     "text": [
      "100%|██████████| 30/30 [00:24<00:00,  1.22it/s]\n",
      " 66%|██████▌   | 27/41 [14:50<06:48, 29.18s/it]"
     ]
    },
    {
     "name": "stdout",
     "output_type": "stream",
     "text": [
      "Finished ./data/sequences/5-1.tif\n",
      "Processing ./data/sequences/5-2.tif with 100 frames\n",
      "Extracting droplets from ./data/sequences/5-2.tif\n"
     ]
    },
    {
     "name": "stderr",
     "output_type": "stream",
     "text": [
      "100%|██████████| 30/30 [00:24<00:00,  1.23it/s]\n",
      " 68%|██████▊   | 28/41 [15:19<06:17, 29.03s/it]"
     ]
    },
    {
     "name": "stdout",
     "output_type": "stream",
     "text": [
      "Finished ./data/sequences/5-2.tif\n",
      "Processing ./data/sequences/5-3.tif with 100 frames\n",
      "Extracting droplets from ./data/sequences/5-3.tif\n"
     ]
    },
    {
     "name": "stderr",
     "output_type": "stream",
     "text": [
      "100%|██████████| 30/30 [00:27<00:00,  1.07it/s]\n",
      " 71%|███████   | 29/41 [15:51<05:59, 29.97s/it]"
     ]
    },
    {
     "name": "stdout",
     "output_type": "stream",
     "text": [
      "Finished ./data/sequences/5-3.tif\n",
      "Processing ./data/sequences/6-1.tif with 100 frames\n",
      "Extracting droplets from ./data/sequences/6-1.tif\n"
     ]
    },
    {
     "name": "stderr",
     "output_type": "stream",
     "text": [
      "100%|██████████| 30/30 [00:27<00:00,  1.11it/s]\n",
      " 73%|███████▎  | 30/41 [16:22<05:34, 30.44s/it]"
     ]
    },
    {
     "name": "stdout",
     "output_type": "stream",
     "text": [
      "Finished ./data/sequences/6-1.tif\n",
      "Processing ./data/sequences/6-2.tif with 100 frames\n",
      "Extracting droplets from ./data/sequences/6-2.tif\n"
     ]
    },
    {
     "name": "stderr",
     "output_type": "stream",
     "text": [
      "100%|██████████| 30/30 [00:25<00:00,  1.16it/s]\n",
      " 76%|███████▌  | 31/41 [16:53<05:06, 30.60s/it]"
     ]
    },
    {
     "name": "stdout",
     "output_type": "stream",
     "text": [
      "Finished ./data/sequences/6-2.tif\n",
      "Processing ./data/sequences/6-3.tif with 100 frames\n",
      "Extracting droplets from ./data/sequences/6-3.tif\n"
     ]
    },
    {
     "name": "stderr",
     "output_type": "stream",
     "text": [
      "100%|██████████| 30/30 [00:25<00:00,  1.18it/s]\n",
      " 78%|███████▊  | 32/41 [17:23<04:33, 30.37s/it]"
     ]
    },
    {
     "name": "stdout",
     "output_type": "stream",
     "text": [
      "Finished ./data/sequences/6-3.tif\n",
      "Processing ./data/sequences/7-1.tif with 100 frames\n",
      "Extracting droplets from ./data/sequences/7-1.tif\n"
     ]
    },
    {
     "name": "stderr",
     "output_type": "stream",
     "text": [
      "100%|██████████| 30/30 [00:23<00:00,  1.26it/s]\n",
      " 80%|████████  | 33/41 [17:51<03:56, 29.62s/it]"
     ]
    },
    {
     "name": "stdout",
     "output_type": "stream",
     "text": [
      "Finished ./data/sequences/7-1.tif\n",
      "Processing ./data/sequences/7-2.tif with 100 frames\n",
      "Extracting droplets from ./data/sequences/7-2.tif\n"
     ]
    },
    {
     "name": "stderr",
     "output_type": "stream",
     "text": [
      "100%|██████████| 30/30 [00:24<00:00,  1.25it/s]\n",
      " 83%|████████▎ | 34/41 [18:19<03:24, 29.21s/it]"
     ]
    },
    {
     "name": "stdout",
     "output_type": "stream",
     "text": [
      "Finished ./data/sequences/7-2.tif\n",
      "Processing ./data/sequences/7-3.tif with 100 frames\n",
      "Extracting droplets from ./data/sequences/7-3.tif\n"
     ]
    },
    {
     "name": "stderr",
     "output_type": "stream",
     "text": [
      "100%|██████████| 30/30 [00:26<00:00,  1.13it/s]\n",
      " 85%|████████▌ | 35/41 [18:50<02:57, 29.63s/it]"
     ]
    },
    {
     "name": "stdout",
     "output_type": "stream",
     "text": [
      "Finished ./data/sequences/7-3.tif\n",
      "Processing ./data/sequences/8-1.tif with 100 frames\n",
      "Extracting droplets from ./data/sequences/8-1.tif\n"
     ]
    },
    {
     "name": "stderr",
     "output_type": "stream",
     "text": [
      "100%|██████████| 30/30 [00:25<00:00,  1.19it/s]\n",
      " 88%|████████▊ | 36/41 [19:19<02:28, 29.61s/it]"
     ]
    },
    {
     "name": "stdout",
     "output_type": "stream",
     "text": [
      "Finished ./data/sequences/8-1.tif\n",
      "Processing ./data/sequences/8-2.tif with 100 frames\n",
      "Extracting droplets from ./data/sequences/8-2.tif\n"
     ]
    },
    {
     "name": "stderr",
     "output_type": "stream",
     "text": [
      "100%|██████████| 30/30 [00:25<00:00,  1.17it/s]\n",
      " 90%|█████████ | 37/41 [19:49<01:58, 29.72s/it]"
     ]
    },
    {
     "name": "stdout",
     "output_type": "stream",
     "text": [
      "Finished ./data/sequences/8-2.tif\n",
      "Processing ./data/sequences/8-3.tif with 100 frames\n",
      "Extracting droplets from ./data/sequences/8-3.tif\n"
     ]
    },
    {
     "name": "stderr",
     "output_type": "stream",
     "text": [
      "100%|██████████| 30/30 [00:26<00:00,  1.15it/s]\n",
      " 93%|█████████▎| 38/41 [20:20<01:29, 30.00s/it]"
     ]
    },
    {
     "name": "stdout",
     "output_type": "stream",
     "text": [
      "Finished ./data/sequences/8-3.tif\n",
      "Processing ./data/sequences/9-1.tif with 100 frames\n",
      "Extracting droplets from ./data/sequences/9-1.tif\n"
     ]
    },
    {
     "name": "stderr",
     "output_type": "stream",
     "text": [
      "100%|██████████| 30/30 [00:24<00:00,  1.23it/s]\n",
      " 95%|█████████▌| 39/41 [20:48<00:58, 29.49s/it]"
     ]
    },
    {
     "name": "stdout",
     "output_type": "stream",
     "text": [
      "Finished ./data/sequences/9-1.tif\n",
      "Processing ./data/sequences/9-2.tif with 100 frames\n",
      "Extracting droplets from ./data/sequences/9-2.tif\n"
     ]
    },
    {
     "name": "stderr",
     "output_type": "stream",
     "text": [
      "100%|██████████| 30/30 [00:24<00:00,  1.24it/s]\n",
      " 98%|█████████▊| 40/41 [21:17<00:29, 29.16s/it]"
     ]
    },
    {
     "name": "stdout",
     "output_type": "stream",
     "text": [
      "Finished ./data/sequences/9-2.tif\n",
      "Processing ./data/sequences/9-3.tif with 100 frames\n",
      "Extracting droplets from ./data/sequences/9-3.tif\n"
     ]
    },
    {
     "name": "stderr",
     "output_type": "stream",
     "text": [
      "100%|██████████| 30/30 [00:25<00:00,  1.18it/s]\n",
      "100%|██████████| 41/41 [21:46<00:00, 31.88s/it]"
     ]
    },
    {
     "name": "stdout",
     "output_type": "stream",
     "text": [
      "Finished ./data/sequences/9-3.tif\n"
     ]
    },
    {
     "name": "stderr",
     "output_type": "stream",
     "text": [
      "\n"
     ]
    }
   ],
   "source": [
    "def file_to_droplets(file):\n",
    "    images = load_images(file)\n",
    "    print(f'Processing {file} with {len(images)} frames')\n",
    "    masks  = process_images(images)\n",
    "    print(f'Extracting droplets from {file}')\n",
    "    for frame in tqdm(range(1, 31)):\n",
    "        droplets = list()\n",
    "        _ , bb = get_contours(masks, frame)\n",
    "        for x, y, w, h in bb:\n",
    "            droplets.append(masks[frame-1][y:y+h, x:x+w])\n",
    "        file_name = file.split(\"/\")[-1].split(\".\")[0]+\"-\"+str(frame).replace(\"-\", \"_\")\n",
    "        file_name = f'./data/droplets/{file_name}'\n",
    "        cv2.imwritemulti(file_name+'.tif', droplets)\n",
    "        with open(file_name+'.json', 'w') as f:\n",
    "            json.dump(bb, f)\n",
    "    print(f'Finished {file}')\n",
    "\n",
    "file_list = os.listdir('./data/sequences')\n",
    "\n",
    "for file in tqdm(file_list):\n",
    "    file_to_droplets(f'./data/sequences/{file}')\n"
   ]
  },
  {
   "cell_type": "code",
   "execution_count": 38,
   "metadata": {},
   "outputs": [
    {
     "name": "stdout",
     "output_type": "stream",
     "text": [
      "[634, 634]\n",
      "(634, 634)\n",
      "[646, 646]\n",
      "(646, 646)\n"
     ]
    },
    {
     "name": "stderr",
     "output_type": "stream",
     "text": [
      "C:\\Users\\lambe\\AppData\\Local\\Temp\\ipykernel_23380\\810626805.py:2: VisibleDeprecationWarning: Creating an ndarray from ragged nested sequences (which is a list-or-tuple of lists-or-tuples-or ndarrays with different lengths or shapes) is deprecated. If you meant to do this, you must specify 'dtype=object' when creating the ndarray.\n",
      "  return np.array(cv2.imreadmulti(file, flags=cv2.IMREAD_GRAYSCALE)[1])\n"
     ]
    }
   ],
   "source": [
    "group = 13\n",
    "student = 2\n",
    "frame = 23\n",
    "\n",
    "file = f'{group}-{student}-{frame}'\n",
    "\n",
    "images = load_images('./data/droplets/'+file+'.tif')\n",
    "with open('./data/droplets/'+file+'.json', 'r') as f:\n",
    "    bb = json.load(f)\n",
    "\n",
    "for i in range(len(bb)):\n",
    "    print(bb[i][2:])\n",
    "    print(images[i].shape)"
   ]
  }
 ],
 "metadata": {
  "kernelspec": {
   "display_name": "base",
   "language": "python",
   "name": "python3"
  },
  "language_info": {
   "codemirror_mode": {
    "name": "ipython",
    "version": 3
   },
   "file_extension": ".py",
   "mimetype": "text/x-python",
   "name": "python",
   "nbconvert_exporter": "python",
   "pygments_lexer": "ipython3",
   "version": "3.10.8"
  }
 },
 "nbformat": 4,
 "nbformat_minor": 2
}
