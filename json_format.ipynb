{
 "cells": [
  {
   "cell_type": "code",
   "execution_count": 111,
   "metadata": {},
   "outputs": [],
   "source": [
    "import json\n",
    "import matplotlib.pyplot as plt\n",
    "import numpy as np\n",
    "import cv2\n",
    "from joblib import Parallel, delayed"
   ]
  },
  {
   "cell_type": "code",
   "execution_count": 112,
   "metadata": {},
   "outputs": [],
   "source": [
    "def load_json(group,student):\n",
    "    with open(f'json-cv/{group}-{student}.json') as f:\n",
    "        return json.load(f)"
   ]
  },
  {
   "cell_type": "code",
   "execution_count": 81,
   "metadata": {},
   "outputs": [
    {
     "name": "stdout",
     "output_type": "stream",
     "text": [
      "[[265, 131, 606, 606]]\n",
      "[[1317, 485, 606, 606], [568, 132, 596, 596]]\n",
      "[[866, 106, 628, 628], [292, 272, 608, 608]]\n",
      "[[843, 143, 610, 610], [196, 318, 600, 600]]\n",
      "[[1136, 128, 616, 616], [496, 318, 608, 608]]\n",
      "[[817, 327, 610, 610], [287, 139, 686, 686]]\n",
      "[[506, 484, 616, 616], [1187, 199, 602, 602]]\n",
      "[[790, 474, 620, 620], [66, 132, 604, 604]]\n",
      "[[1085, 473, 606, 606], [367, 101, 610, 610]]\n"
     ]
    }
   ],
   "source": [
    "data = []\n",
    "bb = []\n",
    "first_group = 9\n",
    "last_group = 9\n",
    "for group in range(first_group,last_group+1):\n",
    "    for student in range(1,3+1):\n",
    "        data.append(load_json(group,student))\n",
    "        for frame in range(1,3+1):\n",
    "            bb.append(load_json(group,str(student)+\"-\"+str(frame)))\n",
    "        "
   ]
  },
  {
   "cell_type": "code",
   "execution_count": 42,
   "metadata": {},
   "outputs": [
    {
     "name": "stdout",
     "output_type": "stream",
     "text": [
      "(6, 3)\n",
      "[[1 2 3]\n",
      " [4 5 3]\n",
      " [1 2 3]\n",
      " [4 5 3]]\n"
     ]
    }
   ],
   "source": [
    "list = [[1,2,3],[4,5,3],[7,8,9],[1,2,3],[4,5,3],[7,8,9]]\n",
    "array = np.array(list)\n",
    "print(array.shape)\n",
    "\n",
    "# Use boolean indexing to keep rows where the last element is 3\n",
    "sorted_array = array[array[:,2] == 3, :]\n",
    "\n",
    "print(sorted_array)\n"
   ]
  },
  {
   "cell_type": "code",
   "execution_count": 79,
   "metadata": {},
   "outputs": [
    {
     "name": "stdout",
     "output_type": "stream",
     "text": [
      "9\n",
      "[[1317, 485, 606, 606], [568, 132, 596, 596]]\n"
     ]
    }
   ],
   "source": [
    "current_bb = bb[1]\n",
    "print(len(bb))\n",
    "print(current_bb)"
   ]
  },
  {
   "cell_type": "code",
   "execution_count": 121,
   "metadata": {},
   "outputs": [
    {
     "name": "stdout",
     "output_type": "stream",
     "text": [
      "1\n",
      "[0 1]\n",
      "tested id:  1\n",
      "2\n",
      "[0 1]\n",
      "3\n",
      "[0 2]\n",
      "1\n",
      "[1 2]\n",
      "2\n",
      "[1 2]\n",
      "3\n",
      "[2 3]\n",
      "1\n",
      "[1 2]\n",
      "2\n",
      "[2 3]\n",
      "3\n",
      "[2 3]\n"
     ]
    }
   ],
   "source": [
    "group = 9\n",
    "for student in range(1,3+1):\n",
    "    for frame in range(1,3+1):\n",
    "        print(frame)\n",
    "        dict_data = {}\n",
    "        current_data = data[student-1]\n",
    "        current_bb = bb[(student-1)*3+frame-1]\n",
    "\n",
    "        cell = np.array(current_data[f'{group}_{student}_frame_{frame}'][\"cells\"])\n",
    "\n",
    "        dict_data[\"bb\"]=current_bb\n",
    "        dict_data[\"valid_bb\"] = []\n",
    "        dict_data[\"cell\"] = []\n",
    "        \n",
    "        for id in range(len(current_bb)):\n",
    "            dict_data[\"valid_bb\"].append(id)\n",
    "            dict_data[\"cell\"].append([])\n",
    "\n",
    "        cells_id = np.unique(cell[:,2])\n",
    "        print(cells_id)\n",
    "\n",
    "        for test_id in cells_id:\n",
    "            box_id_list = []    \n",
    "            cell_current_bb = np.where(cell[:,2]==test_id)[0]\n",
    "            for i in range(1,10):\n",
    "                for bb_id, bb_el in enumerate(current_bb):\n",
    "                    x_min = bb_el[0]\n",
    "                    y_min = bb_el[1]\n",
    "                    x_max = bb_el[0] + bb_el[2]\n",
    "                    y_max = bb_el[1] + bb_el[3]\n",
    "                    if 5*i < len(cell_current_bb) and cell[cell_current_bb[5*i]][0] > x_min and cell[cell_current_bb[5*i]][1] > y_min and cell[cell_current_bb[5*i]][0] < x_max and cell[cell_current_bb[5*i]][1] < y_max:\n",
    "                        box_id_list.append(bb_id)\n",
    "            # box_id contain the value the more represented in the list\n",
    "            if len(box_id_list) > 0:\n",
    "                box_id = max(set(box_id_list), key = box_id_list.count)\n",
    "                dict_data[\"valid_bb\"][box_id] = 1\n",
    "                dict_data[\"cell\"][box_id] = cell[cell[:,2] == test_id, :2].tolist()\n",
    "            else:\n",
    "                print(\"tested id: \",test_id)\n",
    "                dict_data[\"valid_bb\"][id] = 0\n",
    "\n",
    "        file_path = f'generated/test{group}-{student}-{frame}.json'\n",
    "        with open(file_path, 'w') as json_file:\n",
    "            json.dump(dict_data, json_file)\n",
    "        #print(dict_data)\n",
    "\n",
    "\n",
    "\n"
   ]
  }
 ],
 "metadata": {
  "kernelspec": {
   "display_name": "Python 3",
   "language": "python",
   "name": "python3"
  },
  "language_info": {
   "codemirror_mode": {
    "name": "ipython",
    "version": 3
   },
   "file_extension": ".py",
   "mimetype": "text/x-python",
   "name": "python",
   "nbconvert_exporter": "python",
   "pygments_lexer": "ipython3",
   "version": "3.8.10"
  }
 },
 "nbformat": 4,
 "nbformat_minor": 2
}
