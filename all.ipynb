{
 "cells": [
  {
   "cell_type": "code",
   "execution_count": 2,
   "metadata": {},
   "outputs": [],
   "source": [
    "import json\n",
    "import matplotlib.pyplot as plt\n",
    "import numpy as np\n",
    "import imageio.v2 as imageio"
   ]
  },
  {
   "cell_type": "code",
   "execution_count": 3,
   "metadata": {},
   "outputs": [],
   "source": [
    "def load_json(group,student):\n",
    "    with open(f'./data/all_json/{group}_{student}.json') as f:\n",
    "        return json.load(f)\n",
    "    \n",
    "def load_images(group,student):\n",
    "    return imageio.imread(f'./data/sequences/{group}-{student}.tif')\n",
    "\n",
    "def show_image(group,student,frame, energy= None, threshold = None):\n",
    "    plt.figure(figsize=(15,10))\n",
    "    data = load_json(group,student)\n",
    "    images = load_images(group,student)\n",
    "    plt.imshow(images[frame-1])\n",
    "    data = data['{}_{}_frame_{}'.format(group,student,frame)]\n",
    "    for d in data[\"boxes\"]:\n",
    "        rect = plt.Rectangle((d[0], d[1]), d[2], d[3], fill=False, color='red')\n",
    "        plt.gca().add_patch(rect)\n",
    "    \n",
    "    for d in data[\"cells\"]:\n",
    "        plt.plot(d[0], d[1], 'ro', markersize=2)\n",
    "\n",
    "    if energy is not None and threshold is not None:\n",
    "        for i , e in enumerate(energy):\n",
    "            if e <threshold:\n",
    "                plt.axvline(x=i, color='red')    \n",
    "    plt.show()"
   ]
  },
  {
   "cell_type": "markdown",
   "metadata": {},
   "source": [
    "## Hyper parameters\n",
    "Due to the experiment done in the file `back.ipynb`, we have found that the best hyper parameters are:\n",
    "- `frame_number = 60` for the background estimation\n",
    "- `threshold = 0.2` for the background subtraction\n"
   ]
  },
  {
   "cell_type": "code",
   "execution_count": 4,
   "metadata": {},
   "outputs": [],
   "source": [
    "frame_number = 60\n",
    "threshold = 0.2\n",
    "group = 1\n",
    "student = 1\n"
   ]
  },
  {
   "cell_type": "code",
   "execution_count": 5,
   "metadata": {},
   "outputs": [],
   "source": [
    "images = load_images(group,student)\n",
    "data = load_json(group,student)\n"
   ]
  },
  {
   "cell_type": "code",
   "execution_count": null,
   "metadata": {},
   "outputs": [],
   "source": []
  }
 ],
 "metadata": {
  "kernelspec": {
   "display_name": "base",
   "language": "python",
   "name": "python3"
  },
  "language_info": {
   "codemirror_mode": {
    "name": "ipython",
    "version": 3
   },
   "file_extension": ".py",
   "mimetype": "text/x-python",
   "name": "python",
   "nbconvert_exporter": "python",
   "pygments_lexer": "ipython3",
   "version": "3.10.8"
  }
 },
 "nbformat": 4,
 "nbformat_minor": 2
}
