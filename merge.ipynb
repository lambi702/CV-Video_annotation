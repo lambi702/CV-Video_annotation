{
 "cells": [
  {
   "cell_type": "code",
   "execution_count": 6,
   "metadata": {},
   "outputs": [
    {
     "name": "stdout",
     "output_type": "stream",
     "text": [
      "['val/01.tif', 'val/02.tif', 'val/03.tif', 'val/04.tif', 'val/05.tif', 'val/06.tif', 'val/07.tif', 'val/08.tif', 'val/09.tif', 'val/10.tif', 'val/11.tif', 'val/12.tif', 'val/13.tif', 'val/14.tif', 'val/15.tif', 'val/16.tif', 'val/17.tif', 'val/18.tif', 'val/19.tif', 'val/20.tif', 'val/21.tif', 'val/22.tif', 'val/23.tif', 'val/24.tif', 'val/25.tif', 'val/26.tif', 'val/27.tif', 'val/28.tif', 'val/29.tif', 'val/30.tif', 'val/31.tif', 'val/32.tif', 'val/33.tif', 'val/34.tif', 'val/35.tif', 'val/36.tif', 'val/37.tif', 'val/38.tif', 'val/39.tif', 'val/40.tif', 'val/41.tif', 'val/42.tif', 'val/43.tif', 'val/44.tif', 'val/45.tif', 'val/46.tif', 'val/47.tif', 'val/48.tif', 'val/49.tif', 'val/50.tif']\n"
     ]
    }
   ],
   "source": [
    "import cv2\n",
    "import glob\n",
    "\n",
    "# Path to the folder containing the .tif files\n",
    "folder_path = \"val/\"\n",
    "\n",
    "# Get a list of all .tif files in the folder\n",
    "tif_files = glob.glob(folder_path + \"*.tif\")\n",
    "\n",
    "# order the files in the correct order watch out for 01 and 10\n",
    "tif_files.sort()\n",
    "\n",
    "print(tif_files)"
   ]
  },
  {
   "cell_type": "code",
   "execution_count": 7,
   "metadata": {},
   "outputs": [
    {
     "name": "stdout",
     "output_type": "stream",
     "text": [
      "Images written to renaud.tif\n"
     ]
    }
   ],
   "source": [
    "# Create an empty array to store all the images\n",
    "images = []\n",
    "\n",
    "# Read and append each image to the array\n",
    "for file in tif_files:\n",
    "    image = cv2.imread(file, cv2.IMREAD_UNCHANGED)\n",
    "    images.append(image)\n",
    "\n",
    "# Write the array of images to a single .tif file\n",
    "output_file = \"renaud.tif\"\n",
    "cv2.imwritemulti(output_file, images)\n",
    "\n",
    "print(\"Images written to\", output_file)\n"
   ]
  }
 ],
 "metadata": {
  "kernelspec": {
   "display_name": "Python 3",
   "language": "python",
   "name": "python3"
  },
  "language_info": {
   "codemirror_mode": {
    "name": "ipython",
    "version": 3
   },
   "file_extension": ".py",
   "mimetype": "text/x-python",
   "name": "python",
   "nbconvert_exporter": "python",
   "pygments_lexer": "ipython3",
   "version": "3.11.5"
  }
 },
 "nbformat": 4,
 "nbformat_minor": 2
}
