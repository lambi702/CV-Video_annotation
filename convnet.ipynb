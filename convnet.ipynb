{
  "cells": [
    {
      "cell_type": "code",
      "execution_count": null,
      "metadata": {
        "colab": {
          "base_uri": "https://localhost:8080/"
        },
        "id": "uHRf3y_NHOFG",
        "outputId": "5092dc9d-d3ef-4726-9e5f-097667bf023c"
      },
      "outputs": [
        {
          "output_type": "stream",
          "name": "stdout",
          "text": [
            "Requirement already satisfied: geomloss in /usr/local/lib/python3.10/dist-packages (0.2.6)\n",
            "Requirement already satisfied: numpy in /usr/local/lib/python3.10/dist-packages (from geomloss) (1.23.5)\n",
            "Requirement already satisfied: torch in /usr/local/lib/python3.10/dist-packages (from geomloss) (2.1.0+cu118)\n",
            "Requirement already satisfied: filelock in /usr/local/lib/python3.10/dist-packages (from torch->geomloss) (3.13.1)\n",
            "Requirement already satisfied: typing-extensions in /usr/local/lib/python3.10/dist-packages (from torch->geomloss) (4.5.0)\n",
            "Requirement already satisfied: sympy in /usr/local/lib/python3.10/dist-packages (from torch->geomloss) (1.12)\n",
            "Requirement already satisfied: networkx in /usr/local/lib/python3.10/dist-packages (from torch->geomloss) (3.2.1)\n",
            "Requirement already satisfied: jinja2 in /usr/local/lib/python3.10/dist-packages (from torch->geomloss) (3.1.2)\n",
            "Requirement already satisfied: fsspec in /usr/local/lib/python3.10/dist-packages (from torch->geomloss) (2023.6.0)\n",
            "Requirement already satisfied: triton==2.1.0 in /usr/local/lib/python3.10/dist-packages (from torch->geomloss) (2.1.0)\n",
            "Requirement already satisfied: MarkupSafe>=2.0 in /usr/local/lib/python3.10/dist-packages (from jinja2->torch->geomloss) (2.1.3)\n",
            "Requirement already satisfied: mpmath>=0.19 in /usr/local/lib/python3.10/dist-packages (from sympy->torch->geomloss) (1.3.0)\n"
          ]
        }
      ],
      "source": [
        "!pip install geomloss"
      ]
    },
    {
      "cell_type": "code",
      "execution_count": null,
      "metadata": {
        "id": "MVI6c-kyHCsu"
      },
      "outputs": [],
      "source": [
        "import numpy as np\n",
        "import pandas as pd\n",
        "import torch\n",
        "import random\n",
        "from torchvision import transforms\n",
        "from torch.utils.data import Dataset, DataLoader\n",
        "import matplotlib.pyplot as plt\n",
        "import torch.nn as nn\n",
        "import torch.nn.functional as F\n",
        "from torchvision import models\n",
        "from tqdm import tqdm\n",
        "from torchvision.models import resnet50, ResNet50_Weights, vgg16,VGG16_Weights\n",
        "import pickle\n",
        "import os\n",
        "import cv2\n",
        "import json\n",
        "from tqdm import tqdm\n",
        "from geomloss import SamplesLoss"
      ]
    },
    {
      "cell_type": "code",
      "execution_count": null,
      "metadata": {
        "colab": {
          "base_uri": "https://localhost:8080/"
        },
        "id": "q7CD9G2gHWM9",
        "outputId": "fb2d0496-a202-4d84-b185-4a2b4b43f990"
      },
      "outputs": [
        {
          "output_type": "stream",
          "name": "stdout",
          "text": [
            "Mounted at /content/data\n"
          ]
        }
      ],
      "source": [
        "from google.colab import drive\n",
        "drive.mount('/content/data', force_remount=True)"
      ]
    },
    {
      "cell_type": "markdown",
      "metadata": {
        "id": "9WuHWKRQHCsw"
      },
      "source": [
        "### Find the list of frames"
      ]
    },
    {
      "cell_type": "code",
      "execution_count": null,
      "metadata": {
        "colab": {
          "base_uri": "https://localhost:8080/"
        },
        "id": "se7pOyGIHCsx",
        "outputId": "1548e432-3a84-4e73-d546-8fc94a12a584"
      },
      "outputs": [
        {
          "output_type": "stream",
          "name": "stdout",
          "text": [
            "1170\n"
          ]
        }
      ],
      "source": [
        "data_path = '/content/data/MyDrive/'\n",
        "files = os.listdir(data_path+'droplets/')\n",
        "files = [f.split(\".\")[0] for f in files]\n",
        "files = list(set(files))\n",
        "print(len(files))"
      ]
    },
    {
      "cell_type": "code",
      "execution_count": null,
      "metadata": {
        "id": "flb9lx-_HCsy"
      },
      "outputs": [],
      "source": [
        "def load_images(file):\n",
        "    return np.array(cv2.imreadmulti(file, flags=cv2.IMREAD_GRAYSCALE)[1], dtype=object)\n",
        "def load_json(file):\n",
        "    with open(file) as f:\n",
        "        return json.load(f)"
      ]
    },
    {
      "cell_type": "code",
      "execution_count": null,
      "metadata": {
        "id": "MPf46xkwHCsz"
      },
      "outputs": [],
      "source": [
        "class CellsDataset(Dataset):\n",
        "    def __init__(self, files, data_path,train = True , transform=None, seed = 42, test_size = 0.1):\n",
        "        self.files = files\n",
        "        self.data_path = data_path\n",
        "        self.transform = transform\n",
        "        self.seed = seed\n",
        "        self.test_size = test_size\n",
        "        self.images = []\n",
        "        temp = [load_json(data_path+'generated/'+ f+'.json') for f in tqdm(files)]\n",
        "        self.data = []\n",
        "        for t, file in tqdm(zip(temp, files)):\n",
        "            images = load_images(data_path+'droplets/' + file +'.tif')\n",
        "            for i in range(len(t['valid_bb'])):\n",
        "                if t['valid_bb'][i] == 0 or len(t['cell'][i]) > 200:\n",
        "                    continue\n",
        "                self.images.append(images[i])\n",
        "                t['cell'][i] = t['cell'][i] + [[-1,-1]] * (200 - len(t['cell'][i]))\n",
        "                self.data.append({'frame': t['file_name'], 'bb': t['bb'][i], 'cell': t['cell'][i]})\n",
        "        random.seed(self.seed)\n",
        "        test_id = random.sample(range(len(self.images)), int(len(self.images)*self.test_size))\n",
        "\n",
        "\n",
        "        if  train:\n",
        "            self.images = [self.images[i] for i in range(len(self.images)) if i not in test_id]\n",
        "            self.data = [self.data[i] for i in range(len(self.data)) if i not in test_id]\n",
        "        else:\n",
        "            self.images = [self.images[i] for i in range(len(self.images)) if i in test_id]\n",
        "            self.data = [self.data[i] for i in range(len(self.data)) if i in test_id]\n",
        "\n",
        "\n",
        "    def __len__(self):\n",
        "        return len(self.images)\n",
        "\n",
        "    def __getitem__(self, idx):\n",
        "        image = self.images[idx]\n",
        "        data = self.data[idx]\n",
        "        image = np.array(image).astype(np.float32)\n",
        "        if self.transform:\n",
        "            image = self.transform(image)\n",
        "\n",
        "        bb = data['bb']\n",
        "        cell = data['cell']\n",
        "        bb = torch.from_numpy(np.array(bb))\n",
        "        cell = torch.from_numpy(np.array(cell))\n",
        "\n",
        "        return {'frame': data['frame'], 'image': image, 'bb': bb, 'cell': cell}\n"
      ]
    },
    {
      "cell_type": "code",
      "execution_count": null,
      "metadata": {
        "id": "akaFy1dlHCsz"
      },
      "outputs": [],
      "source": [
        "transform = transforms.Compose([\n",
        "    transforms.ToTensor(),\n",
        "    transforms.ToPILImage(),\n",
        "    transforms.Resize((448,448)),\n",
        "    transforms.ToTensor(),\n",
        "])"
      ]
    },
    {
      "cell_type": "code",
      "execution_count": null,
      "metadata": {
        "id": "mAWIMhLcHCs3"
      },
      "outputs": [],
      "source": [
        "class CNN(nn.Module):\n",
        "    def __init__(self):\n",
        "        super().__init__()\n",
        "        self.conv1 = nn.Conv2d(1, 32, 5, padding=2)\n",
        "        self.conv2 = nn.Conv2d(32, 32, 5, padding=2)\n",
        "        self.activation = nn.ReLU()\n",
        "        self.pool = nn.MaxPool2d(5, 5)\n",
        "        self.fc1 = nn.Linear(253476, 1024)  # Adjusted input size\n",
        "        self.fc2 = nn.Linear(1024, 1024)\n",
        "        self.fc3 = nn.Linear(1024, 200 * 2)\n",
        "\n",
        "    def forward(self, image, bb):\n",
        "        x = self.pool(self.activation(self.conv2(self.activation(self.conv1(image)))))\n",
        "        x = x.view(-1, 253472)\n",
        "        x = torch.cat((x, bb), dim=1)\n",
        "        x = self.activation(self.fc1(x))\n",
        "        x = self.activation(self.fc2(x))\n",
        "        x = self.fc3(x)\n",
        "        return x.view(-1, 200, 2)\n",
        "\n"
      ]
    },
    {
      "cell_type": "code",
      "execution_count": null,
      "metadata": {
        "id": "4Rch3fa0HCs3"
      },
      "outputs": [],
      "source": [
        "net = CNN()"
      ]
    },
    {
      "cell_type": "code",
      "execution_count": null,
      "metadata": {
        "colab": {
          "base_uri": "https://localhost:8080/"
        },
        "id": "dm7K7VG4HCs3",
        "outputId": "24e67226-ea4a-4028-f6b2-754489b31455"
      },
      "outputs": [
        {
          "output_type": "stream",
          "name": "stdout",
          "text": [
            "cuda:0\n"
          ]
        },
        {
          "output_type": "execute_result",
          "data": {
            "text/plain": [
              "CNN(\n",
              "  (conv1): Conv2d(1, 32, kernel_size=(5, 5), stride=(1, 1), padding=(2, 2))\n",
              "  (conv2): Conv2d(32, 32, kernel_size=(5, 5), stride=(1, 1), padding=(2, 2))\n",
              "  (activation): ReLU()\n",
              "  (pool): MaxPool2d(kernel_size=5, stride=5, padding=0, dilation=1, ceil_mode=False)\n",
              "  (fc1): Linear(in_features=253476, out_features=1024, bias=True)\n",
              "  (fc2): Linear(in_features=1024, out_features=1024, bias=True)\n",
              "  (fc3): Linear(in_features=1024, out_features=400, bias=True)\n",
              ")"
            ]
          },
          "metadata": {},
          "execution_count": 14
        }
      ],
      "source": [
        "import torch.optim as optim\n",
        "\n",
        "device = torch.device(\"cuda:0\" if torch.cuda.is_available() else \"cpu\")\n",
        "print(device)\n",
        "\n",
        "net.to(device)"
      ]
    },
    {
      "cell_type": "code",
      "execution_count": null,
      "metadata": {
        "id": "6t7F7ZckHCs4"
      },
      "outputs": [],
      "source": [
        "class CustomLoss(nn.Module):\n",
        "    def __init__(self, alpha=10):\n",
        "        super().__init__()\n",
        "        self.alpha = alpha\n",
        "\n",
        "    def forward(self, pred, target):\n",
        "        nb_pred = torch.sum((pred[:, :, 0] >= 0) & (pred[:, :, 1] >= 0))\n",
        "        nb_target = torch.sum((target[:, :, 0] >= 0) & (target[:, :, 1] >= 0))\n",
        "        nb_loss = torch.abs(nb_pred - nb_target)**2\n",
        "\n",
        "        pred = pred[(pred[:, :, 0] >= 0) & (pred[:, :, 1] >= 0)].double()\n",
        "        target = target[(target[:, :, 0] >= 0) & (target[:, :, 1] >= 0)].double()\n",
        "        dist_loss = SamplesLoss(loss=\"sinkhorn\", p=2, blur=0.05)(pred, target)\n",
        "        return dist_loss + nb_loss * self.alpha\n"
      ]
    },
    {
      "cell_type": "code",
      "execution_count": null,
      "metadata": {
        "id": "UNze0lSEHCs5"
      },
      "outputs": [],
      "source": [
        "lr = 0.0001\n",
        "criterion = CustomLoss()\n",
        "optimizer = optim.Adam(net.parameters(), lr=lr)\n"
      ]
    },
    {
      "cell_type": "code",
      "execution_count": null,
      "metadata": {
        "id": "JPgsbczBHCs5",
        "colab": {
          "base_uri": "https://localhost:8080/"
        },
        "outputId": "6289a555-6428-46a1-b95e-9a2cbe3af2c0"
      },
      "outputs": [
        {
          "output_type": "stream",
          "name": "stderr",
          "text": [
            "100%|██████████| 1170/1170 [07:32<00:00,  2.59it/s]\n",
            "1170it [07:39,  2.55it/s]\n",
            "100%|██████████| 1170/1170 [00:01<00:00, 879.52it/s]\n",
            "1170it [00:11, 102.39it/s]\n"
          ]
        }
      ],
      "source": [
        "trainset = CellsDataset(files, data_path, transform=transform)\n",
        "trainloader = DataLoader(trainset, batch_size=2, shuffle=True, num_workers=0)\n",
        "\n",
        "testset = CellsDataset(files, data_path, train=False, transform=transform)\n",
        "testloader = DataLoader(testset, batch_size=2, shuffle=True, num_workers=0)\n",
        "\n"
      ]
    },
    {
      "cell_type": "code",
      "execution_count": null,
      "metadata": {
        "id": "eaWiZ3VKHCs6",
        "colab": {
          "base_uri": "https://localhost:8080/"
        },
        "outputId": "f4b6bce9-6d3f-4866-8737-c8ebf9eb19e8"
      },
      "outputs": [
        {
          "output_type": "stream",
          "name": "stdout",
          "text": [
            "[1,   100] average training loss on last 100 items : 290663.934\n",
            "[1,   200] average training loss on last 100 items : 55510.400\n",
            "[1,   300] average training loss on last 100 items : 53344.622\n",
            "[1,   400] average training loss on last 100 items : 50451.046\n",
            "[1,   500] average training loss on last 100 items : 46260.304\n",
            "[1,   600] average training loss on last 100 items : 49965.963\n",
            "[1,   700] average training loss on last 100 items : 48077.146\n",
            "[1,   800] average training loss on last 100 items : 44862.133\n",
            "[1,   900] average training loss on last 100 items : 42431.428\n",
            "[1,  1000] average training loss on last 100 items : 36207.913\n",
            "[1] average test loss: 33048.822\n",
            "[2,   100] average training loss on last 100 items : 30757.947\n",
            "[2,   200] average training loss on last 100 items : 29192.305\n",
            "[2,   300] average training loss on last 100 items : 25530.603\n",
            "[2,   400] average training loss on last 100 items : 28104.676\n",
            "[2,   500] average training loss on last 100 items : 25962.533\n",
            "[2,   600] average training loss on last 100 items : 26021.603\n",
            "[2,   700] average training loss on last 100 items : 21578.003\n",
            "[2,   800] average training loss on last 100 items : 23041.541\n",
            "[2,   900] average training loss on last 100 items : 17294.460\n",
            "[2,  1000] average training loss on last 100 items : 16103.612\n",
            "[2] average test loss: 12680.844\n",
            "[3,   100] average training loss on last 100 items : 14397.005\n",
            "[3,   200] average training loss on last 100 items : 11222.958\n",
            "[3,   300] average training loss on last 100 items : 10712.076\n",
            "[3,   400] average training loss on last 100 items : 12077.435\n",
            "[3,   500] average training loss on last 100 items : 9754.748\n",
            "[3,   600] average training loss on last 100 items : 12277.583\n",
            "[3,   700] average training loss on last 100 items : 9722.483\n",
            "[3,   800] average training loss on last 100 items : 8735.675\n",
            "[3,   900] average training loss on last 100 items : 8594.388\n",
            "[3,  1000] average training loss on last 100 items : 11627.915\n",
            "[3] average test loss: 9011.466\n",
            "[4,   100] average training loss on last 100 items : 8075.469\n",
            "[4,   200] average training loss on last 100 items : 9222.196\n",
            "[4,   300] average training loss on last 100 items : 11288.157\n",
            "[4,   400] average training loss on last 100 items : 10097.223\n",
            "[4,   500] average training loss on last 100 items : 8075.163\n",
            "[4,   600] average training loss on last 100 items : 7897.436\n",
            "[4,   700] average training loss on last 100 items : 7722.931\n",
            "[4,   800] average training loss on last 100 items : 7296.240\n",
            "[4,   900] average training loss on last 100 items : 7781.171\n",
            "[4,  1000] average training loss on last 100 items : 9291.061\n",
            "[4] average test loss: 9909.531\n",
            "[5,   100] average training loss on last 100 items : 11386.023\n",
            "[5,   200] average training loss on last 100 items : 9214.707\n",
            "[5,   300] average training loss on last 100 items : 8663.892\n",
            "[5,   400] average training loss on last 100 items : 7693.247\n",
            "[5,   500] average training loss on last 100 items : 6626.933\n",
            "[5,   600] average training loss on last 100 items : 6988.942\n",
            "[5,   700] average training loss on last 100 items : 8665.405\n",
            "[5,   800] average training loss on last 100 items : 7814.340\n",
            "[5,   900] average training loss on last 100 items : 7661.616\n",
            "[5,  1000] average training loss on last 100 items : 6499.110\n",
            "[5] average test loss: 8250.681\n",
            "[6,   100] average training loss on last 100 items : 7438.622\n",
            "[6,   200] average training loss on last 100 items : 9412.995\n",
            "[6,   300] average training loss on last 100 items : 11276.636\n",
            "[6,   400] average training loss on last 100 items : 7532.919\n",
            "[6,   500] average training loss on last 100 items : 10265.437\n",
            "[6,   600] average training loss on last 100 items : 7153.266\n",
            "[6,   700] average training loss on last 100 items : 6796.701\n",
            "[6,   800] average training loss on last 100 items : 7238.473\n",
            "[6,   900] average training loss on last 100 items : 6673.276\n",
            "[6,  1000] average training loss on last 100 items : 6960.891\n",
            "[6] average test loss: 8031.322\n",
            "[7,   100] average training loss on last 100 items : 6980.365\n",
            "[7,   200] average training loss on last 100 items : 6787.825\n",
            "[7,   300] average training loss on last 100 items : 7168.396\n",
            "[7,   400] average training loss on last 100 items : 7278.156\n",
            "[7,   500] average training loss on last 100 items : 9035.823\n",
            "[7,   600] average training loss on last 100 items : 8172.062\n",
            "[7,   700] average training loss on last 100 items : 8579.262\n",
            "[7,   800] average training loss on last 100 items : 7888.323\n",
            "[7,   900] average training loss on last 100 items : 7203.008\n",
            "[7,  1000] average training loss on last 100 items : 8160.001\n",
            "[7] average test loss: 8406.378\n",
            "[8,   100] average training loss on last 100 items : 9108.583\n",
            "[8,   200] average training loss on last 100 items : 7173.261\n",
            "[8,   300] average training loss on last 100 items : 6161.857\n",
            "[8,   400] average training loss on last 100 items : 8952.504\n",
            "[8,   500] average training loss on last 100 items : 8260.809\n",
            "[8,   600] average training loss on last 100 items : 8801.890\n",
            "[8,   700] average training loss on last 100 items : 8552.495\n",
            "[8,   800] average training loss on last 100 items : 9092.793\n",
            "[8,   900] average training loss on last 100 items : 8246.194\n",
            "[8,  1000] average training loss on last 100 items : 8033.482\n",
            "[8] average test loss: 8273.897\n",
            "[9,   100] average training loss on last 100 items : 6984.691\n",
            "[9,   200] average training loss on last 100 items : 7565.641\n",
            "[9,   300] average training loss on last 100 items : 8840.326\n",
            "[9,   400] average training loss on last 100 items : 8212.457\n",
            "[9,   500] average training loss on last 100 items : 10388.897\n",
            "[9,   600] average training loss on last 100 items : 8081.351\n",
            "[9,   700] average training loss on last 100 items : 8108.783\n",
            "[9,   800] average training loss on last 100 items : 9765.534\n",
            "[9,   900] average training loss on last 100 items : 7311.238\n",
            "[9,  1000] average training loss on last 100 items : 7938.763\n",
            "[9] average test loss: 8616.144\n",
            "[10,   100] average training loss on last 100 items : 7783.498\n",
            "[10,   200] average training loss on last 100 items : 8342.781\n",
            "[10,   300] average training loss on last 100 items : 8071.288\n",
            "[10,   400] average training loss on last 100 items : 7845.319\n",
            "[10,   500] average training loss on last 100 items : 7174.614\n",
            "[10,   600] average training loss on last 100 items : 8704.584\n",
            "[10,   700] average training loss on last 100 items : 9518.133\n",
            "[10,   800] average training loss on last 100 items : 9722.905\n",
            "[10,   900] average training loss on last 100 items : 7495.031\n",
            "[10,  1000] average training loss on last 100 items : 8008.596\n",
            "[10] average test loss: 8156.701\n"
          ]
        }
      ],
      "source": [
        "nb_epoch = 10\n",
        "device = torch.device(\"cuda:0\" if torch.cuda.is_available() else \"cpu\")\n",
        "net.to(device)\n",
        "\n",
        "train_losses = []\n",
        "test_losses = []\n",
        "\n",
        "for epoch in range(nb_epoch):\n",
        "    running_train_loss = 0.0\n",
        "    running_test_loss = 0.0\n",
        "\n",
        "    # Training loop\n",
        "    for i, data in enumerate(trainloader):\n",
        "        # get the inputs; data is a list of [inputs, labels]\n",
        "        image = data['image'].to(device)\n",
        "        bb = data['bb'].to(device)\n",
        "        labels = data['cell'].to(device)\n",
        "        bb = data['bb'].to(device)\n",
        "        # zero the parameter gradients\n",
        "        optimizer.zero_grad()\n",
        "\n",
        "        outputs = net(image, bb)\n",
        "        loss = criterion(outputs, labels)\n",
        "        loss.backward()\n",
        "        optimizer.step()\n",
        "\n",
        "        train_loss = loss.item()\n",
        "        running_train_loss += train_loss\n",
        "\n",
        "\n",
        "        if i % 100 == 99:\n",
        "            avg_train_loss = running_train_loss/100\n",
        "\n",
        "            print('[%d, %5d] average training loss on last 100 items : %.3f' %\n",
        "                (epoch + 1, i + 1, avg_train_loss))\n",
        "\n",
        "            train_losses.append(avg_train_loss)\n",
        "            running_train_loss = 0.0  # reset running_train_loss\n",
        "\n",
        "    # Testing loop\n",
        "    net.eval()  # Set the model to evaluation mode\n",
        "    with torch.no_grad():\n",
        "        for i, data in enumerate(testloader):\n",
        "            image = data['image'].to(device)\n",
        "            bb = data['bb'].to(device)\n",
        "            labels = data['cell'].to(device)\n",
        "\n",
        "            outputs = net(image, bb)\n",
        "            loss = criterion(outputs, labels)\n",
        "\n",
        "            test_loss = loss.item()\n",
        "            running_test_loss += test_loss\n",
        "\n",
        "        avg_test_loss = running_test_loss / len(testloader)\n",
        "        test_losses.append(avg_test_loss)\n",
        "\n",
        "        print('[%d] average test loss: %.3f' % (epoch + 1, avg_test_loss))\n",
        "\n",
        "    net.train()  # Set the model back to training mode\n",
        "\n"
      ]
    },
    {
      "cell_type": "code",
      "source": [
        "def plot_results(testloader, net, device):\n",
        "    dataiter = iter(testloader)\n",
        "    data = next(dataiter)\n",
        "\n",
        "    images = data['image'].to(device)\n",
        "    bb = data['bb'].to(device)\n",
        "    labels = data['cell'].to(device)\n",
        "\n",
        "    outputs = net(images, bb)\n",
        "    outputs = outputs.detach().to(\"cpu\").numpy()\n",
        "    labels = labels.detach().to(\"cpu\").numpy()\n",
        "    images = images.detach().to(\"cpu\").numpy()\n",
        "\n",
        "    # Remove bounding box's upper-left coordinates from points\n",
        "    # outputs[:, :, 0] -= bb[0][0].to(\"cpu\").numpy()\n",
        "    # outputs[:, :, 1] -= bb[0][1].to(\"cpu\").numpy()\n",
        "    # labels[:, :, 0] -= bb[0][0].to(\"cpu\").numpy()\n",
        "    # labels[:, :, 1] -= bb[0][1].to(\"cpu\").numpy()\n",
        "\n",
        "    # Set non-positive coordinates to NaN\n",
        "    outputs[outputs <= 0] = np.nan\n",
        "    labels[labels <= 0] = np.nan\n",
        "\n",
        "    for i in range(len(images)):\n",
        "        nb_predic = np.sum(~np.isnan(outputs[i][:, 0]))\n",
        "        nb_target = np.sum(~np.isnan(labels[i][:, 0]))\n",
        "\n",
        "        # Get original bounding box coordinates\n",
        "        orig_bb = bb[i].to(\"cpu\").numpy()\n",
        "\n",
        "        # plt.imshow(images[i][0], extent=(orig_bb[0], orig_bb[0] + orig_bb[2], orig_bb[1], orig_bb[1] + orig_bb[3]))\n",
        "\n",
        "        plt.title('Number of predicted points = '+str(nb_predic)+'\\nNumber of original points = '+str(nb_target))\n",
        "        plt.scatter(outputs[i][:, 0], outputs[i][:, 1], c='r', s=10, label=\"Predicted\")\n",
        "        plt.scatter(labels[i][:, 0], labels[i][:, 1], c='b', s=10, label=\"Original\")\n",
        "        plt.legend()\n",
        "        plt.show()"
      ],
      "metadata": {
        "id": "cfZ_JvH4Rywg"
      },
      "execution_count": null,
      "outputs": []
    },
    {
      "cell_type": "code",
      "source": [
        "plot_results(testloader, net, \"cuda:0\")"
      ],
      "metadata": {
        "id": "MrGq4yOrR5Cp",
        "colab": {
          "base_uri": "https://localhost:8080/",
          "height": 929
        },
        "outputId": "1931e8f3-24eb-4a1b-96c2-577af862ab4f"
      },
      "execution_count": null,
      "outputs": [
        {
          "output_type": "display_data",
          "data": {
            "text/plain": [
              "<Figure size 640x480 with 1 Axes>"
            ],
            "image/png": "[encoded data removed]"
          },
          "metadata": {}
        },
        {
          "output_type": "display_data",
          "data": {
            "text/plain": [
              "<Figure size 640x480 with 1 Axes>"
            ],
            "image/png": "[encoded data removed]"
          },
          "metadata": {}
        }
      ]
    },
    {
      "cell_type": "code",
      "source": [
        "torch.save(net.state_dict(), f'/content/data/MyDrive/weights_NN/02_12_23.pth')"
      ],
      "metadata": {
        "id": "h2RIwkXS1Ou9"
      },
      "execution_count": null,
      "outputs": []
    }
  ],
  "metadata": {
    "accelerator": "GPU",
    "colab": {
      "provenance": [],
      "gpuType": "T4"
    },
    "kernelspec": {
      "display_name": "Python 3",
      "name": "python3"
    },
    "language_info": {
      "codemirror_mode": {
        "name": "ipython",
        "version": 3
      },
      "file_extension": ".py",
      "mimetype": "text/x-python",
      "name": "python",
      "nbconvert_exporter": "python",
      "pygments_lexer": "ipython3",
      "version": "3.10.9"
    }
  },
  "nbformat": 4,
  "nbformat_minor": 0
}