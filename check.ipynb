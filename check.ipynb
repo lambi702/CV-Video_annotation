{
 "cells": [
  {
   "attachments": {},
   "cell_type": "markdown",
   "metadata": {},
   "source": [
    "# Annotations checker\n",
    "\n",
    "Simply run the following notebook where you stored your JSON file containing you annotations (e.g. 9_2.json)\n",
    "\n",
    "The notebook awaits the original `.tif` file to be in a subfolder called `raw`"
   ]
  },
  {
   "cell_type": "code",
   "execution_count": 1,
   "metadata": {},
   "outputs": [
    {
     "name": "stderr",
     "output_type": "stream",
     "text": [
      "100%|██████████| 51/51 [01:25<00:00,  1.69s/it]\n"
     ]
    }
   ],
   "source": [
    "import cv2\n",
    "import json\n",
    "import numpy as np\n",
    "from tqdm import tqdm\n",
    "\n",
    "groupid = '14'\n",
    "studentid= '2'\n",
    "\n",
    "identifier = groupid + '_' + studentid\n",
    "\n",
    "filename = identifier + \".tif\" # change this to the name of your file if you did not use my naming convention\n",
    "\n",
    "with open(identifier + '.json', 'r') as f:\n",
    "    annotations = json.load(f)\n",
    "\n",
    "images = []\n",
    "for i in tqdm(range(51)):\n",
    "    images.append(cv2.imreadmulti('./raw/' + groupid + '-' + studentid + '.tif')[1][i])\n",
    "colors = np.random.randint(0, 255, size=(200, 3))"
   ]
  },
  {
   "cell_type": "code",
   "execution_count": 2,
   "metadata": {},
   "outputs": [
    {
     "name": "stderr",
     "output_type": "stream",
     "text": [
      "100%|██████████| 50/50 [00:00<00:00, 375.23it/s]\n"
     ]
    }
   ],
   "source": [
    "computed = []\n",
    "\n",
    "for i in tqdm(range(0,50)):\n",
    "    frame_id = identifier + \"_frame_\" + str(i+1)\n",
    "\n",
    "    image = images[i]\n",
    "\n",
    "    for cell in annotations[frame_id]['cells']:\n",
    "        color = colors[int(cell[2])]\n",
    "        color_list = [int(color[0]), int(color[1]), int(color[2])]\n",
    "        cv2.circle(image, (int(cell[0]), int(cell[1])), 5, color_list, -1)\n",
    "\n",
    "    for bb in annotations[frame_id]['boxes']:\n",
    "        color = colors[int(bb[4])]\n",
    "        color_list = [int(color[0]), int(color[1]), int(color[2])]\n",
    "        cv2.rectangle(image, (int(bb[0]), int(bb[1])), (int(bb[0]+bb[2]), int(bb[1]+bb[3])), color_list, 2)\n",
    "\n",
    "    computed.append(image)\n",
    "\n",
    "cv2.imwritemulti('./computed/' + groupid + '-' + studentid + '_computed.tif', computed);"
   ]
  },
  {
   "cell_type": "code",
   "execution_count": 3,
   "metadata": {},
   "outputs": [],
   "source": [
    "# check the types of the annotations (should print nothing)\n",
    "\n",
    "for frame in annotations:\n",
    "    for cell in annotations[frame]['cells']:\n",
    "        if (type(cell[0]) != int and type(cell[0]) != float) or (type(cell[1]) != int and type(cell[1]) != float) or (type(cell[2]) != int and type(cell[2]) != float):\n",
    "            print(\"cell \", cell)\n",
    "    for box in annotations[frame]['boxes']:\n",
    "        if (type(box[0]) != int and type(box[0]) != float) or (type(box[1]) != int and type(box[1]) != float) or (type(box[2]) != int and type(box[2]) != float) or (type(box[3]) != int and type(box[3]) != float) or (type(box[4]) != int and type(box[4]) != float):\n",
    "            print(\"box \", box)"
   ]
  },
  {
   "cell_type": "code",
   "execution_count": 4,
   "metadata": {},
   "outputs": [
    {
     "name": "stdout",
     "output_type": "stream",
     "text": [
      "14_2_frame_1\n",
      "14_2_frame_2\n",
      "14_2_frame_3\n",
      "14_2_frame_4\n",
      "14_2_frame_5\n",
      "14_2_frame_6\n",
      "14_2_frame_7\n",
      "14_2_frame_8\n",
      "14_2_frame_9\n",
      "14_2_frame_10\n",
      "14_2_frame_11\n",
      "14_2_frame_12\n",
      "14_2_frame_13\n",
      "14_2_frame_14\n",
      "14_2_frame_15\n",
      "14_2_frame_16\n",
      "14_2_frame_17\n",
      "14_2_frame_18\n",
      "14_2_frame_19\n",
      "14_2_frame_20\n",
      "14_2_frame_21\n",
      "14_2_frame_22\n",
      "14_2_frame_23\n",
      "14_2_frame_24\n",
      "14_2_frame_25\n",
      "14_2_frame_26\n",
      "14_2_frame_27\n",
      "14_2_frame_28\n",
      "14_2_frame_29\n",
      "14_2_frame_30\n",
      "14_2_frame_31\n",
      "14_2_frame_32\n",
      "14_2_frame_33\n",
      "14_2_frame_34\n",
      "14_2_frame_35\n",
      "14_2_frame_36\n",
      "14_2_frame_37\n",
      "14_2_frame_38\n",
      "14_2_frame_39\n",
      "14_2_frame_40\n",
      "14_2_frame_41\n",
      "14_2_frame_42\n",
      "14_2_frame_43\n",
      "14_2_frame_44\n",
      "14_2_frame_45\n",
      "14_2_frame_46\n",
      "14_2_frame_47\n",
      "14_2_frame_48\n",
      "14_2_frame_49\n",
      "14_2_frame_50\n"
     ]
    }
   ],
   "source": [
    "# check key names (gid_sid_frame_frameid)\n",
    "\n",
    "for frame in annotations:\n",
    "    print(frame)"
   ]
  },
  {
   "cell_type": "code",
   "execution_count": 5,
   "metadata": {},
   "outputs": [],
   "source": [
    "# check that each frame has 2 keys (should print nothing)\n",
    "\n",
    "for frame in annotations:\n",
    "    if len(annotations[frame].keys()) != 2:\n",
    "        print(frame)"
   ]
  },
  {
   "cell_type": "code",
   "execution_count": 6,
   "metadata": {},
   "outputs": [
    {
     "name": "stdout",
     "output_type": "stream",
     "text": [
      "23\n"
     ]
    }
   ],
   "source": [
    "# print the number of different id values for cells and boxes\n",
    "\n",
    "ids = []\n",
    "\n",
    "for frame in annotations:\n",
    "    for cell in annotations[frame]['cells']:\n",
    "        ids.append(cell[2])\n",
    "    for box in annotations[frame]['boxes']:\n",
    "        ids.append(box[4])\n",
    "\n",
    "print(len(set(ids)))"
   ]
  },
  {
   "cell_type": "code",
   "execution_count": 7,
   "metadata": {},
   "outputs": [
    {
     "name": "stdout",
     "output_type": "stream",
     "text": [
      "50\n"
     ]
    }
   ],
   "source": [
    "# check number of keys in the dictionary (should print 50)\n",
    "\n",
    "print(len(annotations.keys()))"
   ]
  },
  {
   "cell_type": "code",
   "execution_count": 8,
   "metadata": {},
   "outputs": [],
   "source": [
    "# check the length of the length of each box and cell list (should print nothing)\n",
    "\n",
    "for frame in annotations:\n",
    "    for cell in annotations[frame]['cells']:\n",
    "        if len(cell) != 3:\n",
    "            print(frame, cell)\n",
    "    for box in annotations[frame]['boxes']:\n",
    "        if len(box) != 5:\n",
    "            print(frame, box)"
   ]
  }
 ],
 "metadata": {
  "kernelspec": {
   "display_name": "Python 3",
   "language": "python",
   "name": "python3"
  },
  "language_info": {
   "codemirror_mode": {
    "name": "ipython",
    "version": 3
   },
   "file_extension": ".py",
   "mimetype": "text/x-python",
   "name": "python",
   "nbconvert_exporter": "python",
   "pygments_lexer": "ipython3",
   "version": "3.11.5"
  }
 },
 "nbformat": 4,
 "nbformat_minor": 2
}
